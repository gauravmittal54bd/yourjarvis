{
 "cells": [
  {
   "cell_type": "code",
   "execution_count": 1,
   "metadata": {},
   "outputs": [],
   "source": [
    "import cv2"
   ]
  },
  {
   "cell_type": "code",
   "execution_count": null,
   "metadata": {},
   "outputs": [],
   "source": []
  },
  {
   "cell_type": "code",
   "execution_count": 2,
   "metadata": {},
   "outputs": [],
   "source": [
    "img=cv2.imread('nemo.jpeg',1)"
   ]
  },
  {
   "cell_type": "code",
   "execution_count": 3,
   "metadata": {},
   "outputs": [
    {
     "name": "stdout",
     "output_type": "stream",
     "text": [
      "[[[198 142 148]\n",
      "  [198 142 148]\n",
      "  [198 142 148]\n",
      "  ...\n",
      "  [206 150 156]\n",
      "  [206 150 156]\n",
      "  [206 150 156]]\n",
      "\n",
      " [[198 142 148]\n",
      "  [198 142 148]\n",
      "  [198 142 148]\n",
      "  ...\n",
      "  [206 150 156]\n",
      "  [206 150 156]\n",
      "  [206 150 156]]\n",
      "\n",
      " [[198 142 148]\n",
      "  [198 142 148]\n",
      "  [198 142 148]\n",
      "  ...\n",
      "  [206 150 156]\n",
      "  [206 150 156]\n",
      "  [206 150 156]]\n",
      "\n",
      " ...\n",
      "\n",
      " [[123 118 125]\n",
      "  [123 118 123]\n",
      "  [123 118 119]\n",
      "  ...\n",
      "  [115  97  82]\n",
      "  [115  97  82]\n",
      "  [115  97  82]]\n",
      "\n",
      " [[123 120 130]\n",
      "  [123 120 128]\n",
      "  [123 120 123]\n",
      "  ...\n",
      "  [115  97  82]\n",
      "  [115  97  82]\n",
      "  [115  97  82]]\n",
      "\n",
      " [[123 121 132]\n",
      "  [123 121 130]\n",
      "  [123 121 125]\n",
      "  ...\n",
      "  [115  97  82]\n",
      "  [115  97  82]\n",
      "  [115  97  82]]]\n"
     ]
    }
   ],
   "source": [
    "print(img)"
   ]
  },
  {
   "cell_type": "code",
   "execution_count": 4,
   "metadata": {},
   "outputs": [
    {
     "data": {
      "text/plain": [
       "True"
      ]
     },
     "execution_count": 4,
     "metadata": {},
     "output_type": "execute_result"
    }
   ],
   "source": [
    "cv2.imshow('image',img)\n",
    "cv2.waitKey(0) & 0xFF\n",
    "\n",
    "cv2.destroyAllWindows()\n",
    "    \n",
    "\n",
    "cv2.imwrite('he.jpeg',img)\n",
    "    \n",
    "   \n",
    "    "
   ]
  },
  {
   "cell_type": "code",
   "execution_count": 5,
   "metadata": {},
   "outputs": [
    {
     "data": {
      "text/plain": [
       "97"
      ]
     },
     "execution_count": 5,
     "metadata": {},
     "output_type": "execute_result"
    }
   ],
   "source": [
    "ord('a')"
   ]
  },
  {
   "cell_type": "code",
   "execution_count": 6,
   "metadata": {},
   "outputs": [
    {
     "data": {
      "text/plain": [
       "103"
      ]
     },
     "execution_count": 6,
     "metadata": {},
     "output_type": "execute_result"
    }
   ],
   "source": [
    "ord('g')"
   ]
  },
  {
   "cell_type": "code",
   "execution_count": null,
   "metadata": {},
   "outputs": [],
   "source": []
  }
 ],
 "metadata": {
  "kernelspec": {
   "display_name": "Python 3",
   "language": "python",
   "name": "python3"
  },
  "language_info": {
   "codemirror_mode": {
    "name": "ipython",
    "version": 3
   },
   "file_extension": ".py",
   "mimetype": "text/x-python",
   "name": "python",
   "nbconvert_exporter": "python",
   "pygments_lexer": "ipython3",
   "version": "3.8.3"
  }
 },
 "nbformat": 4,
 "nbformat_minor": 4
}
